{
 "cells": [
  {
   "cell_type": "code",
   "execution_count": 9,
   "id": "796b5f3a-0d08-40af-b4a0-659bd8c400c6",
   "metadata": {},
   "outputs": [
    {
     "name": "stdin",
     "output_type": "stream",
     "text": [
      "Enter a string:  asdf\n"
     ]
    },
    {
     "name": "stdout",
     "output_type": "stream",
     "text": [
      "Vowels:  1\n",
      "Consonants:  3\n"
     ]
    }
   ],
   "source": [
    "# (Q1) Write a program to count the number of vowels and consonants present in an input string.\n",
    "# input\n",
    "input_string = input(\"Enter a string: \")\n",
    "\n",
    "# declaration of vowel and consonant count\n",
    "vowel_count = 0\n",
    "consonant_count = 0\n",
    "\n",
    "# declaration of a list of vowels\n",
    "vowels = ['a', 'e', 'i', 'o', 'u']\n",
    "\n",
    "# Loop through each character in the input string\n",
    "for char in input_string.lower():\n",
    "    # Checks if the character is a letter\n",
    "    if char.isalpha():\n",
    "        # Checks if the character is a vowel\n",
    "        if char in vowels:\n",
    "            # If it's a vowel, increment the vowel count\n",
    "            vowel_count += 1\n",
    "        else:\n",
    "            # If it's a consonant, increment the consonant count\n",
    "            consonant_count += 1\n",
    "\n",
    "# Prints the count of vowels and consonants\n",
    "print(\"Vowels: \", vowel_count)\n",
    "print(\"Consonants: \", consonant_count)"
   ]
  },
  {
   "cell_type": "code",
   "execution_count": 3,
   "id": "24993c6d-9f78-485a-97e5-cec4ba1c28f2",
   "metadata": {},
   "outputs": [
    {
     "name": "stdout",
     "output_type": "stream",
     "text": [
      "Matrix AB:\n",
      "[175, 173]\n",
      "[205, 151]\n"
     ]
    }
   ],
   "source": [
    "# (Q2) Write a program that accepts two matrices A and B as input and returns their product AB. Check if A & B are multipliable; if not, return error message def matrixmul(a, b):\n",
    "   \n",
    "    m = len(a)  # number of rows in A\n",
    "    n = len(a[0])  # number of columns in A\n",
    "    p = len(b[0])  # number of columns in B\n",
    "\n",
    "    # Check if A and B are multipliable\n",
    "    if len(b) != n:\n",
    "        return \"Matrices are not multipliable\"\n",
    "\n",
    "    # Initialize result matrix with zeros\n",
    "    c = []\n",
    "    for i in range(m):\n",
    "        c.append([0] * p)\n",
    "\n",
    "    # Perform matrix multiplication\n",
    "    for i in range(m):\n",
    "        for j in range(p):\n",
    "            for k in range(n):\n",
    "                c[i][j] += a[i][k] * b[k][j]\n",
    "\n",
    "    return c\n",
    "\n",
    "# Example usage\n",
    "A = [[1, 9, 18], [45, 7, 2]]\n",
    "B = [[4, 2], [1, 7], [9, 6]]\n",
    "result = matrixmul(A, B)\n",
    "\n",
    "if type(result) == str:\n",
    "    print(result)\n",
    "else:\n",
    "    print(\"Matrix AB:\")\n",
    "    for row in result:\n",
    "        print(row)"
   ]
  },
  {
   "cell_type": "code",
   "execution_count": 5,
   "id": "736c7109-f9bc-47ba-82fc-cf822f0e9278",
   "metadata": {},
   "outputs": [
    {
     "name": "stdout",
     "output_type": "stream",
     "text": [
      "2\n",
      "3\n"
     ]
    }
   ],
   "source": [
    "# (Q3) Write a program to find the number of common elements between two lists. The lists contain integers.\n",
    "l1=[1,2,3]\n",
    "l2=[2,3,4]\n",
    "com=[]\n",
    "for i in l1:\n",
    "    for j in l2:\n",
    "        if i==j:\n",
    "            com.append(i)\n",
    "for b in com:\n",
    "    print(b)"
   ]
  },
  {
   "cell_type": "code",
   "execution_count": 7,
   "id": "5b649e4d-9b7f-482d-b775-102a88c0e6c0",
   "metadata": {},
   "outputs": [
    {
     "name": "stdin",
     "output_type": "stream",
     "text": [
      "Enter the number of rows of the matrix:  2\n",
      "Enter the number of columns of the matrix:  2\n"
     ]
    },
    {
     "name": "stdout",
     "output_type": "stream",
     "text": [
      "Enter the elements of the matrix: \n"
     ]
    },
    {
     "name": "stdin",
     "output_type": "stream",
     "text": [
      "Element [1][1]:  1\n",
      "Element [1][2]:  2\n",
      "Element [2][1]:  3\n",
      "Element [2][2]:  4\n"
     ]
    },
    {
     "name": "stdout",
     "output_type": "stream",
     "text": [
      "\n",
      "Transposed matrix:\n",
      "[1, 3]\n",
      "[2, 4]\n"
     ]
    }
   ],
   "source": [
    "# (Q4) Write a program that accepts a matrix as input and returns its transpose.\n",
    "def transpose(matrix, rows, cols):\n",
    "    transposed_matrix = [[0 for _ in range(rows)] for _ in range(cols)]\n",
    "    for i in range(rows):\n",
    "        for j in range(cols):\n",
    "            transposed_matrix[j][i] = matrix[i][j]\n",
    "\n",
    "    return transposed_matrix\n",
    "\n",
    "rows = int(input(\"Enter the number of rows of the matrix: \"))\n",
    "cols = int(input(\"Enter the number of columns of the matrix: \"))\n",
    "matrix = []\n",
    "\n",
    "print(\"Enter the elements of the matrix: \")\n",
    "for i in range(rows):\n",
    "    a = []\n",
    "    for j in range(cols):\n",
    "        a.append(int(input(f\"Element [{i+1}][{j+1}]: \")))\n",
    "    matrix.append(a)\n",
    "transposed = transpose(matrix, rows, cols)\n",
    "print(\"\\nTransposed matrix:\")\n",
    "for row in transposed:\n",
    "    print(row)"
   ]
  },
  {
   "cell_type": "code",
   "execution_count": null,
   "id": "0ef8e742-7308-47e5-82fa-61cea445b283",
   "metadata": {},
   "outputs": [],
   "source": []
  }
 ],
 "metadata": {
  "kernelspec": {
   "display_name": "Python 3 (ipykernel)",
   "language": "python",
   "name": "python3"
  },
  "language_info": {
   "codemirror_mode": {
    "name": "ipython",
    "version": 3
   },
   "file_extension": ".py",
   "mimetype": "text/x-python",
   "name": "python",
   "nbconvert_exporter": "python",
   "pygments_lexer": "ipython3",
   "version": "3.12.4"
  }
 },
 "nbformat": 4,
 "nbformat_minor": 5
}
