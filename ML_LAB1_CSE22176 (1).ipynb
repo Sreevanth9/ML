{
 "cells": [
  {
   "cell_type": "code",
   "execution_count": 38,
   "id": "65f73a07",
   "metadata": {},
   "outputs": [
    {
     "name": "stdin",
     "output_type": "stream",
     "text": [
      "Enter any string: asdfg\n"
     ]
    },
    {
     "name": "stdout",
     "output_type": "stream",
     "text": [
      "vowels: 1\n",
      "Constants: 4\n"
     ]
    }
   ],
   "source": [
    "\"1. Write a program to count the number of vowels and consonants present in an input string.\"\n",
    "\n",
    "abc=list(input(\"Enter any string:\"))\n",
    "vowels={'a','e','i','o','u'}\n",
    "vow=0\n",
    "cons=0\n",
    "for item in abc:\n",
    "    item=item.lower()\n",
    "    if item in vowels:\n",
    "        vow=vow+1\n",
    "    else:\n",
    "        cons=cons+1\n",
    "spa = abc.count(\" \")\n",
    "cons=cons-spa\n",
    "print(\"vowels:\",vow)\n",
    "print(\"Constants:\",cons)\n"
   ]
  },
  {
   "cell_type": "code",
   "execution_count": 28,
   "id": "1796656b-c4da-432e-9c61-230de3614ace",
   "metadata": {},
   "outputs": [
    {
     "name": "stdout",
     "output_type": "stream",
     "text": [
      "Matrix AB:\n",
      "[552, 895]\n",
      "[1124, 1818]\n"
     ]
    }
   ],
   "source": [
    "\"2. . Write a program that accepts two matrices A and B as input and returns their product AB.\n",
    "Check if A & B are multipliable; if not, return error message.\"\n",
    "def matrixmul(a,b):\n",
    "    m=len(a)\n",
    "    n=len(a[0])\n",
    "    p=len(b[0])\n",
    "    if len(b)!=n:\n",
    "        return \"matrices are not multipliable\"\n",
    "    c=[]\n",
    "    for i in range(m):\n",
    "        c.append([0]*p)\n",
    "    for i in range(m):\n",
    "        for j in range(p):\n",
    "            for k in range(n):\n",
    "                c[i][j]+=a[i][k]*b[k][j]\n",
    "    return c\n",
    "A=[[11,12,13],[24,25,26]]\n",
    "B=[[7,9],[6,10],[31,52]]\n",
    "result=matrixmul(A,B)\n",
    "if type(result) == str:\n",
    "    print(result)\n",
    "else:\n",
    "    print(\"Matrix AB:\")\n",
    "    for row in result:\n",
    "        print(row)"
   ]
  },
  {
   "cell_type": "code",
   "execution_count": 27,
   "id": "38b2a969-70c0-4d02-84c3-d8ab0a5ead03",
   "metadata": {},
   "outputs": [
    {
     "name": "stdin",
     "output_type": "stream",
     "text": [
      "Enter the number of rows of the matrix:  2\n",
      "Enter the number of columns of the matrix:  2\n"
     ]
    },
    {
     "name": "stdout",
     "output_type": "stream",
     "text": [
      "Enter the elements of the matrix: \n"
     ]
    },
    {
     "name": "stdin",
     "output_type": "stream",
     "text": [
      "Element [1][1]:  1\n",
      "Element [1][2]:  1\n",
      "Element [2][1]:  1\n",
      "Element [2][2]:  1\n"
     ]
    },
    {
     "name": "stdout",
     "output_type": "stream",
     "text": [
      "\n",
      "Transposed matrix:\n",
      "[1, 1]\n",
      "[1, 1]\n"
     ]
    }
   ],
   "source": [
    "\"4. Write a program that accepts a matrix as input and returns its transpose.\"\n",
    "def transpose(matrix, rows, cols):\n",
    "    transposed_matrix = [[0 for _ in range(rows)] for _ in range(cols)]\n",
    "    for i in range(rows):\n",
    "        for j in range(cols):\n",
    "            transposed_matrix[j][i] = matrix[i][j]\n",
    "\n",
    "    return transposed_matrix\n",
    "\n",
    "rows = int(input(\"Enter the number of rows of the matrix: \"))\n",
    "cols = int(input(\"Enter the number of columns of the matrix: \"))\n",
    "matrix = []\n",
    "\n",
    "print(\"Enter the elements of the matrix: \")\n",
    "for i in range(rows):\n",
    "    a = []\n",
    "    for j in range(cols):\n",
    "        a.append(int(input(f\"Element [{i+1}][{j+1}]: \")))\n",
    "    matrix.append(a)\n",
    "transposed = transpose(matrix, rows, cols)\n",
    "print(\"\\nTransposed matrix:\")\n",
    "for row in transposed:\n",
    "    print(row)"
   ]
  },
  {
   "cell_type": "code",
   "execution_count": 37,
   "id": "b1bdf145-18f4-4e77-b62b-54db88c55092",
   "metadata": {},
   "outputs": [
    {
     "name": "stdin",
     "output_type": "stream",
     "text": [
      "Enter the elements of list1 :  123\n",
      "Enter the elements of list2 :  456\n"
     ]
    },
    {
     "name": "stdout",
     "output_type": "stream",
     "text": [
      "No. of common elements:  0\n"
     ]
    }
   ],
   "source": [
    "\"3. Write a program to find the number of common elements between two lists. The lists\n",
    "contain integers.\"\n",
    "def c(list1,list2):\n",
    "    common=[]\n",
    "    for i in list1:\n",
    "        if i in list2 and i not in common:\n",
    "            common.append(i)\n",
    "    return len(common)\n",
    "list1=input(\"Enter the elements of list1 : \").split()\n",
    "list2=input(\"Enter the elements of list2 : \").split()\n",
    "for i in range(len(list1)):\n",
    "    list1[i]=int(list1[i])\n",
    "for i in range(len(list2)):\n",
    "    list2[i]=int(list2[i])\n",
    "print(\"No. of common elements: \",c(list1,list2))"
   ]
  },
  {
   "cell_type": "code",
   "execution_count": null,
   "id": "f7bd2e8d-c466-48e3-a843-70b0b777a051",
   "metadata": {},
   "outputs": [],
   "source": []
  }
 ],
 "metadata": {
  "kernelspec": {
   "display_name": "Python 3 (ipykernel)",
   "language": "python",
   "name": "python3"
  },
  "language_info": {
   "codemirror_mode": {
    "name": "ipython",
    "version": 3
   },
   "file_extension": ".py",
   "mimetype": "text/x-python",
   "name": "python",
   "nbconvert_exporter": "python",
   "pygments_lexer": "ipython3",
   "version": "3.12.4"
  }
 },
 "nbformat": 4,
 "nbformat_minor": 5
}
